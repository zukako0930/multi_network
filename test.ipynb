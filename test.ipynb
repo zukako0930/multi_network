{
 "cells": [
  {
   "cell_type": "code",
   "execution_count": 11,
   "metadata": {
    "collapsed": false
   },
   "outputs": [
    {
     "name": "stderr",
     "output_type": "stream",
     "text": [
      "/Users/zukako/.pyenv/versions/anaconda3-4.0.0/envs/keras/lib/python3.6/site-packages/h5py/__init__.py:34: FutureWarning: Conversion of the second argument of issubdtype from `float` to `np.floating` is deprecated. In future, it will be treated as `np.float64 == np.dtype(float).type`.\n",
      "  from ._conv import register_converters as _register_converters\n",
      "Using TensorFlow backend.\n"
     ]
    }
   ],
   "source": [
    "import keras"
   ]
  },
  {
   "cell_type": "code",
   "execution_count": 12,
   "metadata": {
    "collapsed": true
   },
   "outputs": [],
   "source": [
    "from keras.layers import Input, Embedding, LSTM, Dense\n",
    "from keras.models import Model"
   ]
  },
  {
   "cell_type": "markdown",
   "metadata": {},
   "source": [
    "dataset作成"
   ]
  },
  {
   "cell_type": "code",
   "execution_count": 21,
   "metadata": {
    "collapsed": false
   },
   "outputs": [],
   "source": [
    "import random\n",
    "import numpy as np\n",
    "headline_data=[]\n",
    "for j in range(20):\n",
    "    random_list = []\n",
    "    for i in range(100):\n",
    "        random_data = random.randrange(10000)\n",
    "        random_list.append(random_data)\n",
    "    headline_data.append(random_list)\n",
    "headline_data=np.array(headline_data)"
   ]
  },
  {
   "cell_type": "code",
   "execution_count": 30,
   "metadata": {
    "collapsed": false
   },
   "outputs": [],
   "source": [
    "additional_data=[]\n",
    "for j in range(20):\n",
    "    random_list = []\n",
    "    for i in range(5):\n",
    "        random_data = random.randrange(10000)\n",
    "        random_list.append(random_data)\n",
    "    additional_data.append(random_list)\n",
    "additional_data=np.array(additional_data)"
   ]
  },
  {
   "cell_type": "code",
   "execution_count": 22,
   "metadata": {
    "collapsed": false
   },
   "outputs": [],
   "source": [
    "labels=[]\n",
    "for i in range(20):\n",
    "    labels.append(random.randrange(1000))\n",
    "labels=np.array(labels)"
   ]
  },
  {
   "cell_type": "code",
   "execution_count": 23,
   "metadata": {
    "collapsed": true
   },
   "outputs": [],
   "source": [
    "main_input = Input(shape=(100,), dtype='int32', name='main_input')\n",
    "x = Embedding(output_dim=512, input_dim=10000, input_length=100)(main_input)\n",
    "lstm_out = LSTM(32)(x)"
   ]
  },
  {
   "cell_type": "markdown",
   "metadata": {},
   "source": [
    "lstm_outを監視することでLSTMが訓練しやすくなる。"
   ]
  },
  {
   "cell_type": "code",
   "execution_count": 24,
   "metadata": {
    "collapsed": false
   },
   "outputs": [],
   "source": [
    "auxiliary_output = Dense(1, activation='sigmoid', name='aux_output')(lstm_out)"
   ]
  },
  {
   "cell_type": "code",
   "execution_count": 25,
   "metadata": {
    "collapsed": true
   },
   "outputs": [],
   "source": [
    "auxiliary_input = Input(shape=(5,), name='aux_input')\n",
    "# lstm_outとaux_inputを結合したものを次の層への入力とする。\n",
    "x = keras.layers.concatenate([lstm_out, auxiliary_input])\n",
    "\n",
    "# We stack a deep densely-connected network on top\n",
    "x = Dense(64, activation='relu')(x)\n",
    "x = Dense(64, activation='relu')(x)\n",
    "x = Dense(64, activation='relu')(x)\n",
    "\n",
    "# And finally we add the main logistic regression layer\n",
    "main_output = Dense(1, activation='sigmoid', name='main_output')(x)"
   ]
  },
  {
   "cell_type": "markdown",
   "metadata": {},
   "source": [
    "モデルの定義。二つの入力と二つの出力を持っている。"
   ]
  },
  {
   "cell_type": "code",
   "execution_count": 26,
   "metadata": {
    "collapsed": false
   },
   "outputs": [],
   "source": [
    "model = Model(inputs=[main_input, auxiliary_input], outputs=[main_output, auxiliary_output])"
   ]
  },
  {
   "cell_type": "markdown",
   "metadata": {},
   "source": [
    "modelをコンパイルする。誤差関数などをリストで渡すとそれぞれそれに応じて評価される。<br>\n",
    "optimizerやらlossを一つにした場合は共通のものになる。<br>\n",
    "loss_weights罰則を定義する。"
   ]
  },
  {
   "cell_type": "code",
   "execution_count": 27,
   "metadata": {
    "collapsed": true
   },
   "outputs": [],
   "source": [
    "model.compile(optimizer='rmsprop', loss='binary_crossentropy',\n",
    "              loss_weights=[1., 0.2])"
   ]
  },
  {
   "cell_type": "code",
   "execution_count": 31,
   "metadata": {
    "collapsed": false
   },
   "outputs": [
    {
     "name": "stdout",
     "output_type": "stream",
     "text": [
      "Epoch 1/50\n",
      "20/20 [==============================] - 2s 79ms/step - loss: 5493.1309 - main_output_loss: 5492.9466 - aux_output_loss: 0.9199\n",
      "Epoch 2/50\n",
      "20/20 [==============================] - 0s 17ms/step - loss: 5479.1462 - main_output_loss: 5492.9468 - aux_output_loss: -69.0031\n",
      "Epoch 3/50\n",
      "20/20 [==============================] - 0s 19ms/step - loss: 5461.7197 - main_output_loss: 5492.9468 - aux_output_loss: -156.1354\n",
      "Epoch 4/50\n",
      "20/20 [==============================] - 0s 20ms/step - loss: 5427.7913 - main_output_loss: 5492.9472 - aux_output_loss: -325.7785\n",
      "Epoch 5/50\n",
      "20/20 [==============================] - 0s 18ms/step - loss: 5360.9702 - main_output_loss: 5492.9470 - aux_output_loss: -659.8841\n",
      "Epoch 6/50\n",
      "20/20 [==============================] - 0s 19ms/step - loss: 5282.9805 - main_output_loss: 5492.9468 - aux_output_loss: -1049.8319\n",
      "Epoch 7/50\n",
      "20/20 [==============================] - 0s 18ms/step - loss: 5228.5674 - main_output_loss: 5492.9473 - aux_output_loss: -1321.8992\n",
      "Epoch 8/50\n",
      "20/20 [==============================] - 0s 18ms/step - loss: 5187.2658 - main_output_loss: 5492.9471 - aux_output_loss: -1528.4071\n",
      "Epoch 9/50\n",
      "20/20 [==============================] - 0s 21ms/step - loss: 5150.7024 - main_output_loss: 5492.9473 - aux_output_loss: -1711.2247\n",
      "Epoch 10/50\n",
      "20/20 [==============================] - 0s 18ms/step - loss: 5118.5601 - main_output_loss: 5492.9467 - aux_output_loss: -1871.9336\n",
      "Epoch 11/50\n",
      "20/20 [==============================] - 0s 20ms/step - loss: 5089.7799 - main_output_loss: 5492.9468 - aux_output_loss: -2015.8340\n",
      "Epoch 12/50\n",
      "20/20 [==============================] - 0s 18ms/step - loss: 5062.0705 - main_output_loss: 5492.9470 - aux_output_loss: -2154.3828\n",
      "Epoch 13/50\n",
      "20/20 [==============================] - 0s 18ms/step - loss: 5034.2344 - main_output_loss: 5492.9470 - aux_output_loss: -2293.5639\n",
      "Epoch 14/50\n",
      "20/20 [==============================] - 0s 18ms/step - loss: 5007.2546 - main_output_loss: 5492.9468 - aux_output_loss: -2428.4614\n",
      "Epoch 15/50\n",
      "20/20 [==============================] - 0s 18ms/step - loss: 4980.0937 - main_output_loss: 5492.9468 - aux_output_loss: -2564.2659\n",
      "Epoch 16/50\n",
      "20/20 [==============================] - 0s 19ms/step - loss: 4952.5562 - main_output_loss: 5492.9469 - aux_output_loss: -2701.9531\n",
      "Epoch 17/50\n",
      "20/20 [==============================] - 0s 19ms/step - loss: 4926.9460 - main_output_loss: 5492.9472 - aux_output_loss: -2830.0056\n",
      "Epoch 18/50\n",
      "20/20 [==============================] - 0s 18ms/step - loss: 4905.4682 - main_output_loss: 5492.9469 - aux_output_loss: -2937.3934\n",
      "Epoch 19/50\n",
      "20/20 [==============================] - 0s 19ms/step - loss: 4886.9640 - main_output_loss: 5492.9469 - aux_output_loss: -3029.9149\n",
      "Epoch 20/50\n",
      "20/20 [==============================] - 0s 18ms/step - loss: 4872.9602 - main_output_loss: 5492.9472 - aux_output_loss: -3099.9357\n",
      "Epoch 21/50\n",
      "20/20 [==============================] - 0s 17ms/step - loss: 4861.3730 - main_output_loss: 5492.9466 - aux_output_loss: -3157.8679\n",
      "Epoch 22/50\n",
      "20/20 [==============================] - 0s 17ms/step - loss: 4851.2747 - main_output_loss: 5492.9470 - aux_output_loss: -3208.3616\n",
      "Epoch 23/50\n",
      "20/20 [==============================] - 0s 17ms/step - loss: 4842.8106 - main_output_loss: 5492.9469 - aux_output_loss: -3250.6808\n",
      "Epoch 24/50\n",
      "20/20 [==============================] - 0s 17ms/step - loss: 4835.2246 - main_output_loss: 5492.9468 - aux_output_loss: -3288.6115\n",
      "Epoch 25/50\n",
      "20/20 [==============================] - 0s 18ms/step - loss: 4828.2224 - main_output_loss: 5492.9472 - aux_output_loss: -3323.6238\n",
      "Epoch 26/50\n",
      "20/20 [==============================] - 0s 18ms/step - loss: 4822.1604 - main_output_loss: 5492.9469 - aux_output_loss: -3353.9323\n",
      "Epoch 27/50\n",
      "20/20 [==============================] - 0s 17ms/step - loss: 4816.3000 - main_output_loss: 5492.9469 - aux_output_loss: -3383.2343\n",
      "Epoch 28/50\n",
      "20/20 [==============================] - 0s 18ms/step - loss: 4810.1963 - main_output_loss: 5492.9466 - aux_output_loss: -3413.7519\n",
      "Epoch 29/50\n",
      "20/20 [==============================] - 0s 17ms/step - loss: 4804.3859 - main_output_loss: 5492.9470 - aux_output_loss: -3442.8048\n",
      "Epoch 30/50\n",
      "20/20 [==============================] - 0s 17ms/step - loss: 4799.2252 - main_output_loss: 5492.9471 - aux_output_loss: -3468.6102\n",
      "Epoch 31/50\n",
      "20/20 [==============================] - 0s 18ms/step - loss: 4793.9143 - main_output_loss: 5492.9471 - aux_output_loss: -3495.1641\n",
      "Epoch 32/50\n",
      "20/20 [==============================] - 0s 18ms/step - loss: 4788.5332 - main_output_loss: 5492.9468 - aux_output_loss: -3522.0686\n",
      "Epoch 33/50\n",
      "20/20 [==============================] - 0s 17ms/step - loss: 4782.9631 - main_output_loss: 5492.9470 - aux_output_loss: -3549.9200\n",
      "Epoch 34/50\n",
      "20/20 [==============================] - 0s 18ms/step - loss: 4777.2747 - main_output_loss: 5492.9470 - aux_output_loss: -3578.3619\n",
      "Epoch 35/50\n",
      "20/20 [==============================] - 0s 18ms/step - loss: 4771.9142 - main_output_loss: 5492.9466 - aux_output_loss: -3605.1619\n",
      "Epoch 36/50\n",
      "20/20 [==============================] - 0s 18ms/step - loss: 4766.4991 - main_output_loss: 5492.9471 - aux_output_loss: -3632.2404\n",
      "Epoch 37/50\n",
      "20/20 [==============================] - 0s 18ms/step - loss: 4760.9445 - main_output_loss: 5492.9468 - aux_output_loss: -3660.0111\n",
      "Epoch 38/50\n",
      "20/20 [==============================] - 0s 18ms/step - loss: 4755.6644 - main_output_loss: 5492.9469 - aux_output_loss: -3686.4124\n",
      "Epoch 39/50\n",
      "20/20 [==============================] - 0s 19ms/step - loss: 4750.7341 - main_output_loss: 5492.9467 - aux_output_loss: -3711.0625\n",
      "Epoch 40/50\n",
      "20/20 [==============================] - 0s 18ms/step - loss: 4745.5006 - main_output_loss: 5492.9468 - aux_output_loss: -3737.2305\n",
      "Epoch 41/50\n",
      "20/20 [==============================] - 0s 18ms/step - loss: 4740.0872 - main_output_loss: 5492.9471 - aux_output_loss: -3764.2994\n",
      "Epoch 42/50\n",
      "20/20 [==============================] - 0s 17ms/step - loss: 4735.1688 - main_output_loss: 5492.9469 - aux_output_loss: -3788.8899\n",
      "Epoch 43/50\n",
      "20/20 [==============================] - 0s 16ms/step - loss: 4730.0724 - main_output_loss: 5492.9471 - aux_output_loss: -3814.3734\n",
      "Epoch 44/50\n",
      "20/20 [==============================] - 0s 17ms/step - loss: 4724.7932 - main_output_loss: 5492.9469 - aux_output_loss: -3840.7681\n",
      "Epoch 45/50\n",
      "20/20 [==============================] - 0s 16ms/step - loss: 4719.7081 - main_output_loss: 5492.9468 - aux_output_loss: -3866.1936\n",
      "Epoch 46/50\n",
      "20/20 [==============================] - 0s 16ms/step - loss: 4714.3015 - main_output_loss: 5492.9470 - aux_output_loss: -3893.2284\n",
      "Epoch 47/50\n",
      "20/20 [==============================] - 0s 16ms/step - loss: 4709.2486 - main_output_loss: 5492.9469 - aux_output_loss: -3918.4919\n",
      "Epoch 48/50\n",
      "20/20 [==============================] - 0s 15ms/step - loss: 4704.1272 - main_output_loss: 5492.9470 - aux_output_loss: -3944.0989\n",
      "Epoch 49/50\n",
      "20/20 [==============================] - 0s 16ms/step - loss: 4698.7814 - main_output_loss: 5492.9468 - aux_output_loss: -3970.8271\n",
      "Epoch 50/50\n",
      "20/20 [==============================] - 0s 16ms/step - loss: 4693.4917 - main_output_loss: 5492.9468 - aux_output_loss: -3997.2759\n"
     ]
    },
    {
     "data": {
      "text/plain": [
       "<keras.callbacks.History at 0x11d7fd630>"
      ]
     },
     "execution_count": 31,
     "metadata": {},
     "output_type": "execute_result"
    }
   ],
   "source": [
    "model.fit([headline_data, additional_data], [labels, labels],\n",
    "          epochs=50, batch_size=12)"
   ]
  },
  {
   "cell_type": "markdown",
   "metadata": {},
   "source": [
    "入力と出力に重み付けを行なっていれば以下のように名前で定義できる・"
   ]
  },
  {
   "cell_type": "code",
   "execution_count": null,
   "metadata": {
    "collapsed": true
   },
   "outputs": [],
   "source": [
    "model.compile(optimizer='rmsprop',\n",
    "              loss={'main_output': 'binary_crossentropy', 'aux_output': 'binary_crossentropy'},\n",
    "              loss_weights={'main_output': 1., 'aux_output': 0.2})\n",
    "\n",
    "# And trained it via:\n",
    "model.fit({'main_input': headline_data, 'aux_input': additional_data},\n",
    "          {'main_output': labels, 'aux_output': labels},\n",
    "          epochs=50, batch_size=32)"
   ]
  }
 ],
 "metadata": {
  "kernelspec": {
   "display_name": "keras36",
   "language": "python",
   "name": "keras36"
  },
  "language_info": {
   "codemirror_mode": {
    "name": "ipython",
    "version": 3
   },
   "file_extension": ".py",
   "mimetype": "text/x-python",
   "name": "python",
   "nbconvert_exporter": "python",
   "pygments_lexer": "ipython3",
   "version": "3.6.2"
  }
 },
 "nbformat": 4,
 "nbformat_minor": 0
}
